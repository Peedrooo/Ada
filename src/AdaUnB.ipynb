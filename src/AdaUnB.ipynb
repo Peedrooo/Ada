{
 "cells": [
  {
   "cell_type": "markdown",
   "metadata": {},
   "source": [
    "# Ada - Project"
   ]
  },
  {
   "cell_type": "markdown",
   "metadata": {},
   "source": [
    "### Imports"
   ]
  },
  {
   "cell_type": "code",
   "execution_count": 4,
   "metadata": {},
   "outputs": [],
   "source": [
    "import pandas as pd"
   ]
  },
  {
   "cell_type": "markdown",
   "metadata": {},
   "source": [
    "### ETL"
   ]
  },
  {
   "cell_type": "code",
   "execution_count": 6,
   "metadata": {},
   "outputs": [
    {
     "name": "stderr",
     "output_type": "stream",
     "text": [
      "d:\\Github\\Ada\\.venv\\Lib\\site-packages\\openpyxl\\worksheet\\_reader.py:329: UserWarning: Data Validation extension is not supported and will be removed\n",
      "  warn(msg)\n"
     ]
    }
   ],
   "source": [
    "df = pd.read_excel('data/grade_fga.xlsx')"
   ]
  },
  {
   "cell_type": "code",
   "execution_count": 7,
   "metadata": {},
   "outputs": [],
   "source": [
    "df = df[df['CURSO RESPONSAVEL'] == 'Software'].reset_index(drop=True)"
   ]
  },
  {
   "cell_type": "code",
   "execution_count": 11,
   "metadata": {},
   "outputs": [
    {
     "data": {
      "text/plain": [
       "Index(['DISCIPLINA', 'TURMA', 'FLUXO', 'VAGAS', 'CÓDIGO', 'DIA', 'HORÁRIO',\n",
       "       'MODO', 'CÓDIGO LOCAL', 'LOCAL', 'PROFESSORES', 'CURSO RESPONSAVEL',\n",
       "       'Créditos', 'Carga Horária'],\n",
       "      dtype='object')"
      ]
     },
     "execution_count": 11,
     "metadata": {},
     "output_type": "execute_result"
    }
   ],
   "source": [
    "df.columns"
   ]
  },
  {
   "cell_type": "code",
   "execution_count": 12,
   "metadata": {},
   "outputs": [
    {
     "data": {
      "text/plain": [
       "array(['10:00-11:50', '08:00-09:50', '16:00-17:50', '14:00-15:50',\n",
       "       '12:00-13:50', '18:00-19:50', '12:00-12:55'], dtype=object)"
      ]
     },
     "execution_count": 12,
     "metadata": {},
     "output_type": "execute_result"
    }
   ],
   "source": [
    "df['HORÁRIO'].unique()"
   ]
  },
  {
   "cell_type": "code",
   "execution_count": 13,
   "metadata": {},
   "outputs": [
    {
     "data": {
      "text/plain": [
       "array(['I10', 'MOCAP', 'I9', 'S10', 'S9', 'NÃO OFERTAR', 'I6', 'I3', 'I7',\n",
       "       'S1', 'S3', 'S2', 'S4', 'S6', 'S7', 'I5', 'I4', 'Anfiteatro',\n",
       "       'ANFITEATRO'], dtype=object)"
      ]
     },
     "execution_count": 13,
     "metadata": {},
     "output_type": "execute_result"
    }
   ],
   "source": [
    "df['LOCAL'].unique()"
   ]
  },
  {
   "cell_type": "code",
   "execution_count": 27,
   "metadata": {},
   "outputs": [
    {
     "data": {
      "text/plain": [
       "array(['Algoritmos e Programação de Computadores',\n",
       "       'Aprendizado de Maquina', 'Arquitetura e Desenho de Software',\n",
       "       'Compiladores 1', 'Criptografia e Segurança de Redes',\n",
       "       'Desenvolvimento de Sofware', 'Engenharia de Produto de Software',\n",
       "       'Engenharia de Software Experimental',\n",
       "       'Estrutura de Dados e Algoritmos 1', 'Estruturas de Dados 2',\n",
       "       'Física para Jogos Eletrônicos 1',\n",
       "       'Fundamentos de Arquitetura de Computadores',\n",
       "       'Fundamentos de Redes de Computadores',\n",
       "       'Fundamentos de Sistemas Embarcados',\n",
       "       'Fundamentos de Sistemas Operacionais',\n",
       "       'Gerencia de Configuração e Evolução de Software',\n",
       "       'Interação Humano Computador', 'Introdução à Computação Gráfica',\n",
       "       'Introducao a Web Semantica', 'Matematica Discreta 1',\n",
       "       'Matematica Discreta 2', 'Melhoria de Processos de Software',\n",
       "       'Métodos de Desenvolvimento de Software', 'Orientação a Objetos',\n",
       "       'Paradigmas de Programação', 'Princípios de Robótica Educacional',\n",
       "       'Produtividade e Profissionalismo em Engenharia Software',\n",
       "       'Programação para Competições',\n",
       "       'Programacao para Sistemas Paralelos e Distribuídos',\n",
       "       'Programação WEB', 'Projeto de Algoritmos',\n",
       "       'Projeto Integrador de Engenharia 1',\n",
       "       'Projeto Integrador de Engenharia 2', 'Qualidade de Software 1',\n",
       "       'Requisitos de Software', 'Seminários em Engenharia de Software',\n",
       "       'Sistema de Banco de Dados 1', 'Sistema de Banco de Dados 2',\n",
       "       'Sistemas Críticos e Tolerância a Falhas',\n",
       "       'Técnicas de Programação em Plataformas Emergentes',\n",
       "       'Testes de Software',\n",
       "       'Tópicos Especiais de Engenharia de Software (FELICIDADE)',\n",
       "       'Tópicos Especiais de Engenharia de Software',\n",
       "       'Tópicos Especiais em  Jogos Digitais',\n",
       "       'Tópicos Especiais em  Programação',\n",
       "       'Tópicos Especiais em Governança de TI'], dtype=object)"
      ]
     },
     "execution_count": 27,
     "metadata": {},
     "output_type": "execute_result"
    }
   ],
   "source": [
    "df['DISCIPLINA'].unique()"
   ]
  },
  {
   "cell_type": "code",
   "execution_count": 15,
   "metadata": {},
   "outputs": [
    {
     "data": {
      "text/plain": [
       "array(['I10', 'MOCAP', 'I9', 'S10', 'S9', 'NÃO OFERTAR', 'I6', 'I3', 'I7',\n",
       "       'S1', 'S3', 'S2', 'S4', 'S6', 'S7', 'I5', 'I4', 'Anfiteatro',\n",
       "       'ANFITEATRO'], dtype=object)"
      ]
     },
     "execution_count": 15,
     "metadata": {},
     "output_type": "execute_result"
    }
   ],
   "source": [
    "df['LOCAL'].unique()"
   ]
  },
  {
   "cell_type": "code",
   "execution_count": 18,
   "metadata": {},
   "outputs": [
    {
     "data": {
      "text/html": [
       "<div>\n",
       "<style scoped>\n",
       "    .dataframe tbody tr th:only-of-type {\n",
       "        vertical-align: middle;\n",
       "    }\n",
       "\n",
       "    .dataframe tbody tr th {\n",
       "        vertical-align: top;\n",
       "    }\n",
       "\n",
       "    .dataframe thead th {\n",
       "        text-align: right;\n",
       "    }\n",
       "</style>\n",
       "<table border=\"1\" class=\"dataframe\">\n",
       "  <thead>\n",
       "    <tr style=\"text-align: right;\">\n",
       "      <th></th>\n",
       "      <th>DISCIPLINA</th>\n",
       "      <th>TURMA</th>\n",
       "      <th>FLUXO</th>\n",
       "      <th>VAGAS</th>\n",
       "      <th>CÓDIGO</th>\n",
       "      <th>DIA</th>\n",
       "      <th>HORÁRIO</th>\n",
       "      <th>MODO</th>\n",
       "      <th>CÓDIGO LOCAL</th>\n",
       "      <th>LOCAL</th>\n",
       "      <th>PROFESSORES</th>\n",
       "      <th>CURSO RESPONSAVEL</th>\n",
       "      <th>Créditos</th>\n",
       "      <th>Carga Horária</th>\n",
       "    </tr>\n",
       "  </thead>\n",
       "  <tbody>\n",
       "    <tr>\n",
       "      <th>0</th>\n",
       "      <td>Algoritmos e Programação de Computadores</td>\n",
       "      <td>2</td>\n",
       "      <td>1.0</td>\n",
       "      <td>80.0</td>\n",
       "      <td>CIC0004</td>\n",
       "      <td>Qua</td>\n",
       "      <td>10:00-11:50</td>\n",
       "      <td>Presencial</td>\n",
       "      <td>183372</td>\n",
       "      <td>I10</td>\n",
       "      <td>Fernando William</td>\n",
       "      <td>Software</td>\n",
       "      <td>2.0</td>\n",
       "      <td>30.0</td>\n",
       "    </tr>\n",
       "    <tr>\n",
       "      <th>1</th>\n",
       "      <td>Algoritmos e Programação de Computadores</td>\n",
       "      <td>2</td>\n",
       "      <td>1.0</td>\n",
       "      <td>80.0</td>\n",
       "      <td>CIC0004</td>\n",
       "      <td>Sex</td>\n",
       "      <td>10:00-11:50</td>\n",
       "      <td>Presencial</td>\n",
       "      <td>183372</td>\n",
       "      <td>I10</td>\n",
       "      <td>Fernando William</td>\n",
       "      <td>Software</td>\n",
       "      <td>2.0</td>\n",
       "      <td>30.0</td>\n",
       "    </tr>\n",
       "    <tr>\n",
       "      <th>2</th>\n",
       "      <td>Algoritmos e Programação de Computadores</td>\n",
       "      <td>2</td>\n",
       "      <td>1.0</td>\n",
       "      <td>80.0</td>\n",
       "      <td>CIC0004</td>\n",
       "      <td>Seg</td>\n",
       "      <td>10:00-11:50</td>\n",
       "      <td>Presencial</td>\n",
       "      <td>183371</td>\n",
       "      <td>MOCAP</td>\n",
       "      <td>Fernando William</td>\n",
       "      <td>Software</td>\n",
       "      <td>2.0</td>\n",
       "      <td>30.0</td>\n",
       "    </tr>\n",
       "    <tr>\n",
       "      <th>3</th>\n",
       "      <td>Algoritmos e Programação de Computadores</td>\n",
       "      <td>3</td>\n",
       "      <td>1.0</td>\n",
       "      <td>80.0</td>\n",
       "      <td>CIC0004</td>\n",
       "      <td>Ter</td>\n",
       "      <td>08:00-09:50</td>\n",
       "      <td>Presencial</td>\n",
       "      <td>183372</td>\n",
       "      <td>I10</td>\n",
       "      <td>Fabrício Braz</td>\n",
       "      <td>Software</td>\n",
       "      <td>2.0</td>\n",
       "      <td>30.0</td>\n",
       "    </tr>\n",
       "    <tr>\n",
       "      <th>4</th>\n",
       "      <td>Algoritmos e Programação de Computadores</td>\n",
       "      <td>3</td>\n",
       "      <td>1.0</td>\n",
       "      <td>80.0</td>\n",
       "      <td>CIC0004</td>\n",
       "      <td>Qui</td>\n",
       "      <td>08:00-09:50</td>\n",
       "      <td>Presencial</td>\n",
       "      <td>183372</td>\n",
       "      <td>I10</td>\n",
       "      <td>Fabrício Braz</td>\n",
       "      <td>Software</td>\n",
       "      <td>2.0</td>\n",
       "      <td>30.0</td>\n",
       "    </tr>\n",
       "    <tr>\n",
       "      <th>5</th>\n",
       "      <td>Algoritmos e Programação de Computadores</td>\n",
       "      <td>3</td>\n",
       "      <td>1.0</td>\n",
       "      <td>80.0</td>\n",
       "      <td>CIC0004</td>\n",
       "      <td>Seg</td>\n",
       "      <td>16:00-17:50</td>\n",
       "      <td>Presencial</td>\n",
       "      <td>183371</td>\n",
       "      <td>I9</td>\n",
       "      <td>Fabrício Braz</td>\n",
       "      <td>Software</td>\n",
       "      <td>2.0</td>\n",
       "      <td>30.0</td>\n",
       "    </tr>\n",
       "    <tr>\n",
       "      <th>6</th>\n",
       "      <td>Algoritmos e Programação de Computadores</td>\n",
       "      <td>4</td>\n",
       "      <td>1.0</td>\n",
       "      <td>80.0</td>\n",
       "      <td>CIC0004</td>\n",
       "      <td>Seg</td>\n",
       "      <td>14:00-15:50</td>\n",
       "      <td>Presencial</td>\n",
       "      <td>183372</td>\n",
       "      <td>I10</td>\n",
       "      <td>Daniel Sundfeld</td>\n",
       "      <td>Software</td>\n",
       "      <td>2.0</td>\n",
       "      <td>30.0</td>\n",
       "    </tr>\n",
       "    <tr>\n",
       "      <th>7</th>\n",
       "      <td>Algoritmos e Programação de Computadores</td>\n",
       "      <td>4</td>\n",
       "      <td>1.0</td>\n",
       "      <td>80.0</td>\n",
       "      <td>CIC0004</td>\n",
       "      <td>Qua</td>\n",
       "      <td>10:00-11:50</td>\n",
       "      <td>Presencial</td>\n",
       "      <td>183382</td>\n",
       "      <td>S10</td>\n",
       "      <td>Daniel Sundfeld</td>\n",
       "      <td>Software</td>\n",
       "      <td>2.0</td>\n",
       "      <td>30.0</td>\n",
       "    </tr>\n",
       "    <tr>\n",
       "      <th>8</th>\n",
       "      <td>Algoritmos e Programação de Computadores</td>\n",
       "      <td>4</td>\n",
       "      <td>1.0</td>\n",
       "      <td>80.0</td>\n",
       "      <td>CIC0004</td>\n",
       "      <td>Sex</td>\n",
       "      <td>10:00-11:50</td>\n",
       "      <td>Presencial</td>\n",
       "      <td>183382</td>\n",
       "      <td>S10</td>\n",
       "      <td>Daniel Sundfeld</td>\n",
       "      <td>Software</td>\n",
       "      <td>2.0</td>\n",
       "      <td>30.0</td>\n",
       "    </tr>\n",
       "    <tr>\n",
       "      <th>9</th>\n",
       "      <td>Algoritmos e Programação de Computadores</td>\n",
       "      <td>5</td>\n",
       "      <td>1.0</td>\n",
       "      <td>80.0</td>\n",
       "      <td>CIC0004</td>\n",
       "      <td>Qua</td>\n",
       "      <td>14:00-15:50</td>\n",
       "      <td>Presencial</td>\n",
       "      <td>183372</td>\n",
       "      <td>I10</td>\n",
       "      <td>ROSE YURI SHIMIZU</td>\n",
       "      <td>Software</td>\n",
       "      <td>2.0</td>\n",
       "      <td>30.0</td>\n",
       "    </tr>\n",
       "  </tbody>\n",
       "</table>\n",
       "</div>"
      ],
      "text/plain": [
       "                                 DISCIPLINA TURMA  FLUXO  VAGAS   CÓDIGO  DIA  \\\n",
       "0  Algoritmos e Programação de Computadores     2    1.0   80.0  CIC0004  Qua   \n",
       "1  Algoritmos e Programação de Computadores     2    1.0   80.0  CIC0004  Sex   \n",
       "2  Algoritmos e Programação de Computadores     2    1.0   80.0  CIC0004  Seg   \n",
       "3  Algoritmos e Programação de Computadores     3    1.0   80.0  CIC0004  Ter   \n",
       "4  Algoritmos e Programação de Computadores     3    1.0   80.0  CIC0004  Qui   \n",
       "5  Algoritmos e Programação de Computadores     3    1.0   80.0  CIC0004  Seg   \n",
       "6  Algoritmos e Programação de Computadores     4    1.0   80.0  CIC0004  Seg   \n",
       "7  Algoritmos e Programação de Computadores     4    1.0   80.0  CIC0004  Qua   \n",
       "8  Algoritmos e Programação de Computadores     4    1.0   80.0  CIC0004  Sex   \n",
       "9  Algoritmos e Programação de Computadores     5    1.0   80.0  CIC0004  Qua   \n",
       "\n",
       "       HORÁRIO        MODO CÓDIGO LOCAL  LOCAL         PROFESSORES  \\\n",
       "0  10:00-11:50  Presencial      183372     I10    Fernando William   \n",
       "1  10:00-11:50  Presencial      183372     I10    Fernando William   \n",
       "2  10:00-11:50  Presencial      183371   MOCAP    Fernando William   \n",
       "3  08:00-09:50  Presencial      183372     I10       Fabrício Braz   \n",
       "4  08:00-09:50  Presencial      183372     I10       Fabrício Braz   \n",
       "5  16:00-17:50  Presencial      183371      I9       Fabrício Braz   \n",
       "6  14:00-15:50  Presencial      183372     I10     Daniel Sundfeld   \n",
       "7  10:00-11:50  Presencial      183382     S10     Daniel Sundfeld   \n",
       "8  10:00-11:50  Presencial      183382     S10     Daniel Sundfeld   \n",
       "9  14:00-15:50  Presencial      183372     I10  ROSE YURI SHIMIZU    \n",
       "\n",
       "  CURSO RESPONSAVEL  Créditos  Carga Horária  \n",
       "0          Software       2.0           30.0  \n",
       "1          Software       2.0           30.0  \n",
       "2          Software       2.0           30.0  \n",
       "3          Software       2.0           30.0  \n",
       "4          Software       2.0           30.0  \n",
       "5          Software       2.0           30.0  \n",
       "6          Software       2.0           30.0  \n",
       "7          Software       2.0           30.0  \n",
       "8          Software       2.0           30.0  \n",
       "9          Software       2.0           30.0  "
      ]
     },
     "execution_count": 18,
     "metadata": {},
     "output_type": "execute_result"
    }
   ],
   "source": [
    "df.head(10)"
   ]
  },
  {
   "cell_type": "code",
   "execution_count": null,
   "metadata": {},
   "outputs": [],
   "source": []
  }
 ],
 "metadata": {
  "kernelspec": {
   "display_name": ".venv",
   "language": "python",
   "name": "python3"
  },
  "language_info": {
   "codemirror_mode": {
    "name": "ipython",
    "version": 3
   },
   "file_extension": ".py",
   "mimetype": "text/x-python",
   "name": "python",
   "nbconvert_exporter": "python",
   "pygments_lexer": "ipython3",
   "version": "3.11.9"
  }
 },
 "nbformat": 4,
 "nbformat_minor": 2
}
